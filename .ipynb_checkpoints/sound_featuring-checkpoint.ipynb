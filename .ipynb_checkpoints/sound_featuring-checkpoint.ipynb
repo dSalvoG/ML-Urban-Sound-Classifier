{
 "cells": [
  {
   "cell_type": "markdown",
   "metadata": {},
   "source": [
    "# Urban Sound Classification, Part 1\n",
    "## Feature extraction from sound\n",
    "\n",
    "### Introduction\n",
    "We all got exposed to different sounds every day. Like, the sound of traffic jam, siren, music and dog bark etc. We understand sound in terms of recognition and association to a known sound, but what happens when you don't know that sound and not recognize his source?\n",
    "\n",
    "Well that's the same starting point for a computer classifier. In that sense, how about teaching computer to classify such sounds automatically into different categories.\n",
    "\n",
    "In this notebook we will learn techniques to classify urban sound using machine learnig. Classifying sound is pretty different from other source of data. In this notebook we will first see what features can be extracted from sound data and how easy it is to extract such features in Python using open source library called [*Librosa*](http://librosa.github.io/).\n",
    "\n",
    "To follow this tutorial, make sure you have installed the following tools:\n",
    "* Tensorflow\n",
    "* Librosa\n",
    "* Numpy\n",
    "* Matplotlib\n",
    "* glob\n",
    "* os\n",
    "* keras\n",
    "* pandas\n",
    "* scikit-learn\n",
    "* datetime"
   ]
  },
  {
   "cell_type": "markdown",
   "metadata": {},
   "source": [
    "### Dataset\n",
    "\n",
    "In this experience we are focused on delvelop a convolutional neural network model able to classify automatically the different urban sounds. To train and work afford this project, I use the urban sound dataset UbanSound8K published by the SONY project reserchers. It contains 8.732 labelled sound clips (<= 4s) from ten different classes according their Urban Soun Taxonomy publication:\n",
    "\n",
    "* Aire Conditioner (classID = 0)\n",
    "* Car Horn (classID = 1)\n",
    "* Children Playing (classID = 2)\n",
    "* Dog Bark (classID = 3)\n",
    "* Drilling (classID = 4)\n",
    "* Engine Idling (classID = 5)\n",
    "* Gun Shot (classID = 6)\n",
    "* Jackhammer (classID = 7)\n",
    "* Siren (classID = 8)\n",
    "* Street Music (classID = 9)\n",
    "\n",
    "This dataset is available for free in this link, [*UrbanSound8K*](https://urbansounddataset.weebly.com/urbansound8k.html).\n",
    "\n",
    "Whe you download the dataset, you will get a '.tar.gz' compressed file (UNIX compression distribution), from Windows you can use prgrams like 7-zip to uncompress the file.\n",
    "\n",
    "That file contains two different directories, one of them you can find information about audio fragments classification from a metadata 'UrbanSound8K.csv' file. The other directory contains the audio segments divided in 10 different blocks not classified by classes. Finally, audio data is distibuted as:\n",
    "\n",
    "* slice_file_name: The name of the audio file. The name takes the following format: fsID-classID-occurrenceID-sliceID.wav\n",
    "* fsID: the Freesound ID of the recording from which this excerpt (slice) is taken\n",
    "* start: The start time of the slice in the original Freesound recording\n",
    "* end: The end time of slice in the original Freesound recording\n",
    "* salience: A (subjective) salience rating of the sound. 1 = foreground, 2 = background.\n",
    "* fold: The fold number (1-10) to which this file has been allocated.\n",
    "* classID: A numeric identifier of the sound class\n",
    "* class: The class name\n",
    "\n",
    "source:\n",
    "J. Salamon, C. Jacoby and J. P. Bello, \"A Dataset and Taxonomy for Urban Sound Research\", \n",
    "22nd ACM International Conference on Multimedia, Orlando USA, Nov. 2014."
   ]
  },
  {
   "cell_type": "markdown",
   "metadata": {},
   "source": [
    "## Feature Extraction\n",
    "Even system that use feature learning need to first transform the signal into a representation that lends itself to successful learning. For audio signals,a popular representation is the mel-spectrogram.\n",
    "\n",
    "The mel-spectogram is obtained by taking the short-time Fourier transform and mapping its spectral magnitude onto the perceptually motivated mel-scale using a filterbak in the frequency domain. It is the starting point for computin MFCCs, and a popular representation for many audio analysis algorithms including ones based on unsupervised feature learning."
   ]
  },
  {
   "cell_type": "code",
   "execution_count": 2,
   "metadata": {},
   "outputs": [],
   "source": [
    "import glob\n",
    "import os\n",
    "import pandas as pd\n",
    "import librosa\n",
    "from datetime import datetime \n",
    "\n",
    "import numpy as np"
   ]
  },
  {
   "cell_type": "markdown",
   "metadata": {},
   "source": [
    "to extract log-scaled\n",
    "mel-spectrograms with 128 components (bands) covering the\n",
    "audible frequency range (0–22 050 Hz), using a window size of\n",
    "23 ms (1024 samples at 44.1 kHz) and a hop size of the same\n",
    "duration. Since the excerpts in our evaluation dataset (described\n",
    "below) are of varying duration (up to 4 s), we fix the size of the\n",
    "input TF-patch X to 3 s (128 frames), i.e., X ∈ R128×128. TFpatches\n",
    "are extracted randomly (in time) from the full log-melspectrogram\n",
    "of each audio excerpt during training as described\n",
    "below."
   ]
  },
  {
   "cell_type": "code",
   "execution_count": 5,
   "metadata": {},
   "outputs": [],
   "source": [
    "## Load metadata set into pd DataFrame to take the label value for each sound clip"
   ]
  },
  {
   "cell_type": "code",
   "execution_count": 2,
   "metadata": {},
   "outputs": [],
   "source": [
    "def get_stream(audio, window_size): # fix the audio daya size up to 3s (512*128frames=65536)\n",
    "    \n",
    "    if audio.shape[0] < window_size:\n",
    "        padding = np.zeros(window_size-audio.shape[0])\n",
    "        stream = np.concatenate((audio,padding), axis=0)\n",
    "#         print('shape menor', stream.shape)\n",
    "    elif audio.shape[0] >= window_size:\n",
    "        stream = np.resize(audio,window_size)\n",
    "#         print('shape mayor', stream.shape)\n",
    "        \n",
    "    return stream\n",
    "\n",
    "def windows(data, window_size):\n",
    "    start = 0\n",
    "    while start < len(data):\n",
    "        yield int(start), int(start + window_size)\n",
    "        start += (window_size / 2)\n",
    "\n",
    "# to extract log-scaled mel-spectrogram with 128 bands covering audible freq (0-22.050Hz)\n",
    "# using windows_size of 23 ms (1024 samples at 44.1 kHz) and a hop size of the same duration\n",
    "# fix the input TF-patch X to 3s (128 frames)\n",
    "def extract_features(parent_dir,sub_dirs,file_ext=\"*.wav\",bands = 128, frames = 128):\n",
    "    window_stream = 512 * (frames - 1) # fix all audio input up to 3 seconds\n",
    "    log_specgrams = []\n",
    "    labels = []\n",
    "    for l, sub_dir in enumerate(sub_dirs):\n",
    "# Cambiar codigo de forma que se obtenga el valor de la etiqueta\n",
    "# desde el archivo .csv \"metadata\" y no desde el nombre de archivo\n",
    "        for fn in glob.glob(os.path.join(os.path.abspath(parent_dir),sub_dir,file_ext)):\n",
    "            sound_clip,s = librosa.load(fn)\n",
    "            label = fn.split('-')[3]\n",
    "            stream = get_stream(sound_clip,window_stream)\n",
    "\n",
    "            # revisar el atributo win_length=n_fft/2=1024 de los 2048 de n_fft\n",
    "            melspec = librosa.feature.melspectrogram(stream, sr=s, win_length=512, n_mels = bands) #revisar n_mels a 128\n",
    "            logspec = librosa.power_to_db(melspec, ref=np.max)\n",
    "            logspec = logspec.T.flatten()[:, np.newaxis].T\n",
    "            log_specgrams.append(logspec)\n",
    "            labels.append(label)\n",
    "            \n",
    "    log_specgrams = np.asarray(log_specgrams).reshape(len(log_specgrams),bands,frames,1)\n",
    "    features = np.concatenate((log_specgrams, np.zeros(np.shape(log_specgrams))), axis = 3)\n",
    "    for i in range(len(features)):\n",
    "        features[i, :, :, 1] = librosa.feature.delta(features[i, :, :, 0])\n",
    "    \n",
    "    return np.array(features), np.array(labels,dtype = np.int)"
   ]
  },
  {
   "cell_type": "code",
   "execution_count": 1,
   "metadata": {},
   "outputs": [
    {
     "ename": "NameError",
     "evalue": "name 'datetime' is not defined",
     "output_type": "error",
     "traceback": [
      "\u001b[1;31m---------------------------------------------------------------------------\u001b[0m",
      "\u001b[1;31mNameError\u001b[0m                                 Traceback (most recent call last)",
      "\u001b[1;32m<ipython-input-1-de1537562157>\u001b[0m in \u001b[0;36m<module>\u001b[1;34m\u001b[0m\n\u001b[0;32m      1\u001b[0m \u001b[0mparent_dir\u001b[0m \u001b[1;33m=\u001b[0m \u001b[1;34m'audio'\u001b[0m\u001b[1;33m\u001b[0m\u001b[1;33m\u001b[0m\u001b[0m\n\u001b[0;32m      2\u001b[0m \u001b[0msub_dirs\u001b[0m\u001b[1;33m=\u001b[0m \u001b[1;33m[\u001b[0m\u001b[1;34m'fold10'\u001b[0m\u001b[1;33m]\u001b[0m\u001b[1;33m\u001b[0m\u001b[1;33m\u001b[0m\u001b[0m\n\u001b[1;32m----> 3\u001b[1;33m \u001b[0mstart\u001b[0m \u001b[1;33m=\u001b[0m \u001b[0mdatetime\u001b[0m\u001b[1;33m.\u001b[0m\u001b[0mnow\u001b[0m\u001b[1;33m(\u001b[0m\u001b[1;33m)\u001b[0m\u001b[1;33m\u001b[0m\u001b[1;33m\u001b[0m\u001b[0m\n\u001b[0m\u001b[0;32m      4\u001b[0m \u001b[0mfeatures\u001b[0m\u001b[1;33m,\u001b[0m\u001b[0mlabels\u001b[0m \u001b[1;33m=\u001b[0m \u001b[0mextract_features\u001b[0m\u001b[1;33m(\u001b[0m\u001b[0mparent_dir\u001b[0m\u001b[1;33m,\u001b[0m\u001b[0msub_dirs\u001b[0m\u001b[1;33m)\u001b[0m\u001b[1;33m\u001b[0m\u001b[1;33m\u001b[0m\u001b[0m\n\u001b[0;32m      5\u001b[0m \u001b[1;33m\u001b[0m\u001b[0m\n",
      "\u001b[1;31mNameError\u001b[0m: name 'datetime' is not defined"
     ]
    }
   ],
   "source": [
    "parent_dir = 'audio'\n",
    "sub_dirs= ['fold10']\n",
    "start = datetime.now()\n",
    "features,labels = extract_features(parent_dir,sub_dirs)\n",
    "\n",
    "# Saving Features and Labels arrays\n",
    "# np.save('features_test10', features)\n",
    "# np.save('labels_test10', labels)\n",
    "\n",
    "duration = datetime.now() - start\n",
    "print(\"Feature and label extraction saved in time: \", duration)"
   ]
  },
  {
   "cell_type": "code",
   "execution_count": null,
   "metadata": {},
   "outputs": [],
   "source": [
    "print(features.size)"
   ]
  }
 ],
 "metadata": {
  "kernelspec": {
   "display_name": "Python 3",
   "language": "python",
   "name": "python3"
  },
  "language_info": {
   "codemirror_mode": {
    "name": "ipython",
    "version": 3
   },
   "file_extension": ".py",
   "mimetype": "text/x-python",
   "name": "python",
   "nbconvert_exporter": "python",
   "pygments_lexer": "ipython3",
   "version": "3.7.6"
  }
 },
 "nbformat": 4,
 "nbformat_minor": 4
}
